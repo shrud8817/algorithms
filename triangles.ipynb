{
  "nbformat": 4,
  "nbformat_minor": 0,
  "metadata": {
    "colab": {
      "name": "triangles.ipynb",
      "provenance": [],
      "authorship_tag": "ABX9TyPlC8D6crr2jl1h0K/WrEGT",
      "include_colab_link": true
    },
    "kernelspec": {
      "name": "python3",
      "display_name": "Python 3"
    },
    "language_info": {
      "name": "python"
    }
  },
  "cells": [
    {
      "cell_type": "markdown",
      "metadata": {
        "id": "view-in-github",
        "colab_type": "text"
      },
      "source": [
        "<a href=\"https://colab.research.google.com/github/shrud8817/algorithms/blob/main/triangles.ipynb\" target=\"_parent\"><img src=\"https://colab.research.google.com/assets/colab-badge.svg\" alt=\"Open In Colab\"/></a>"
      ]
    },
    {
      "cell_type": "code",
      "metadata": {
        "colab": {
          "base_uri": "https://localhost:8080/"
        },
        "id": "CehDOIqh9Ju6",
        "outputId": "043b97a0-847f-4002-ed75-48d60b909c44"
      },
      "source": [
        "# check if triangle is possible when sides are given\n",
        "def is_a_triangle(a, b, c):\n",
        "    return a + b > c and b + c > a and c + a > b\n",
        "\n",
        "\n",
        "a = float(input('Enter the first side\\'s length: '))\n",
        "b = float(input('Enter the second side\\'s length: '))\n",
        "c = float(input('Enter the third side\\'s length: '))\n",
        "\n",
        "if is_a_triangle(a, b, c):\n",
        "    print('Yes, it can be a triangle.')\n",
        "else:\n",
        "    print('No, it can\\'t be a triangle.')"
      ],
      "execution_count": 3,
      "outputs": [
        {
          "output_type": "stream",
          "text": [
            "Enter the first side's length: 2\n",
            "Enter the second side's length: 3\n",
            "Enter the third side's length: 4\n",
            "Yes, it can be a triangle.\n"
          ],
          "name": "stdout"
        }
      ]
    },
    {
      "cell_type": "code",
      "metadata": {
        "colab": {
          "base_uri": "https://localhost:8080/"
        },
        "id": "LOV1BXhN9iyc",
        "outputId": "8feacb90-2eda-4939-9fff-6fca98a8fe6e"
      },
      "source": [
        "#pythagoras triangle\n",
        "def is_a_triangle(a, b, c):\n",
        "    return a + b > c and b + c > a and c + a > b\n",
        "\n",
        "\n",
        "def is_a_right_triangle(a, b, c):\n",
        "    if not is_a_triangle(a, b, c):\n",
        "        return False\n",
        "    if c > a and c > b:\n",
        "        return c ** 2 == a ** 2 + b ** 2\n",
        "    if a > b and a > c:\n",
        "        return a ** 2 == b ** 2 + c ** 2\n",
        "\n",
        "\n",
        "print(is_a_right_triangle(5, 3, 4))\n",
        "print(is_a_right_triangle(1, 3, 4))"
      ],
      "execution_count": 4,
      "outputs": [
        {
          "output_type": "stream",
          "text": [
            "True\n",
            "False\n"
          ],
          "name": "stdout"
        }
      ]
    },
    {
      "cell_type": "code",
      "metadata": {
        "colab": {
          "base_uri": "https://localhost:8080/"
        },
        "id": "U7gLKfbO9opY",
        "outputId": "aa848ff5-0ae0-4d95-db6a-d21bcfdcdc01"
      },
      "source": [
        "# Area of a triangle Heron's formula\n",
        "\n",
        "# s = (a + b + c) / 2\n",
        "# A = the square root of s(s - a)(s - b)(s - c)\n",
        "\n",
        "def is_triangle(a,b,c):\n",
        "    return a+b>c and b+c>a and a+c>b\n",
        "\n",
        "def heron(a,b,c):\n",
        "    s=(a+b+c)/2\n",
        "    return (s*(s-a)*(s-b)*(s-c))**0.5\n",
        "\n",
        "def area_of_triangle(a,b,c):\n",
        "    if is_triangle(a,b,c):\n",
        "        return heron(a,b,c)\n",
        "    return None\n",
        "    \n",
        "print(area_of_triangle(3,4,5))\n",
        "print(area_of_triangle(1,1,3))"
      ],
      "execution_count": 5,
      "outputs": [
        {
          "output_type": "stream",
          "text": [
            "6.0\n",
            "None\n"
          ],
          "name": "stdout"
        }
      ]
    }
  ]
}