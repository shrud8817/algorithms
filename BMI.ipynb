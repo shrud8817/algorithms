{
  "nbformat": 4,
  "nbformat_minor": 0,
  "metadata": {
    "colab": {
      "name": "BMI.ipynb",
      "provenance": [],
      "authorship_tag": "ABX9TyPdWJ6Ki6pUFLSINpWNlHSJ",
      "include_colab_link": true
    },
    "kernelspec": {
      "name": "python3",
      "display_name": "Python 3"
    },
    "language_info": {
      "name": "python"
    }
  },
  "cells": [
    {
      "cell_type": "markdown",
      "metadata": {
        "id": "view-in-github",
        "colab_type": "text"
      },
      "source": [
        "<a href=\"https://colab.research.google.com/github/shrud8817/algorithms/blob/main/BMI.ipynb\" target=\"_parent\"><img src=\"https://colab.research.google.com/assets/colab-badge.svg\" alt=\"Open In Colab\"/></a>"
      ]
    },
    {
      "cell_type": "code",
      "metadata": {
        "colab": {
          "base_uri": "https://localhost:8080/"
        },
        "id": "0zXMxrhU846y",
        "outputId": "57383348-3169-4f8f-dbfa-9c503fc3e5a2"
      },
      "source": [
        "# evaluating BMI and converting imperial units to metric units\n",
        "def ft_and_inch_to_m(ft, inch = 0.0):\n",
        "    return ft * 0.3048 + inch * 0.0254\n",
        "\n",
        "\n",
        "def lb_to_kg(lb):\n",
        "    return lb * 0.45359237\n",
        "\n",
        "\n",
        "def bmi(weight, height):\n",
        "    if height < 1.0 or height > 2.5 or weight < 20 or weight > 200:\n",
        "        return None\n",
        "    \n",
        "    return weight / height ** 2\n",
        "\n",
        "\n",
        "print(bmi(weight = lb_to_kg(176), height = ft_and_inch_to_m(5, 7)))\n"
      ],
      "execution_count": 1,
      "outputs": [
        {
          "output_type": "stream",
          "text": [
            "27.565214082533313\n"
          ],
          "name": "stdout"
        }
      ]
    }
  ]
}