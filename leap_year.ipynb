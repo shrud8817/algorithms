{
  "nbformat": 4,
  "nbformat_minor": 0,
  "metadata": {
    "colab": {
      "name": "leap_year.ipynb",
      "provenance": [],
      "collapsed_sections": [],
      "authorship_tag": "ABX9TyN7/vv+9o+Q+RyRDAt1wVa9",
      "include_colab_link": true
    },
    "kernelspec": {
      "name": "python3",
      "display_name": "Python 3"
    },
    "language_info": {
      "name": "python"
    }
  },
  "cells": [
    {
      "cell_type": "markdown",
      "metadata": {
        "id": "view-in-github",
        "colab_type": "text"
      },
      "source": [
        "<a href=\"https://colab.research.google.com/github/shrud8817/algorithms/blob/main/leap_year.ipynb\" target=\"_parent\"><img src=\"https://colab.research.google.com/assets/colab-badge.svg\" alt=\"Open In Colab\"/></a>"
      ]
    },
    {
      "cell_type": "code",
      "metadata": {
        "id": "33PDBNdx59Tu"
      },
      "source": [
        "# leap year \n",
        "# A leap year is exactly divisible by 4 except for century years (years ending with 00). \n",
        "# The century year is a leap year only if it is perfectly divisible by 400\n",
        "\n",
        "\n",
        "# To get year (integer input) from the user\n",
        "# year = int(input(\"Enter a year: \"))\n",
        "\n",
        "def is_leap_year(year):\n",
        "    if (year % 4) == 0:\n",
        "      if (year % 100) == 0:\n",
        "          if (year % 400) == 0:\n",
        "              return str(year) + \"is a leap year\"\n",
        "          else:\n",
        "              return str(year) + \" is not a leap year\"\n",
        "      else:\n",
        "          return str(year) + \" is a leap year\"\n",
        "    else:\n",
        "      return str(year) + \" is not a leap year\""
      ],
      "execution_count": 27,
      "outputs": []
    },
    {
      "cell_type": "code",
      "metadata": {
        "colab": {
          "base_uri": "https://localhost:8080/"
        },
        "id": "NvH_cuUf6HHr",
        "outputId": "8bcae96c-2ba6-4ad1-f288-60b24e348cc8"
      },
      "source": [
        "test_data = [1900, 2000, 2016, 1987]\n",
        "for i in test_data:\n",
        "  result = is_leap_year(i)\n",
        "  print(result)\n"
      ],
      "execution_count": 29,
      "outputs": [
        {
          "output_type": "stream",
          "text": [
            "1900 is not a leap year\n",
            "2000is a leap year\n",
            "2016 is a leap year\n",
            "1987 is not a leap year\n"
          ],
          "name": "stdout"
        }
      ]
    }
  ]
}