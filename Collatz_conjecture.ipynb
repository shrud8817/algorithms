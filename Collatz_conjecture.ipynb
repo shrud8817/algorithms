{
  "nbformat": 4,
  "nbformat_minor": 0,
  "metadata": {
    "colab": {
      "name": "Collatz_conjecture.ipynb",
      "provenance": [],
      "authorship_tag": "ABX9TyNQBj4m1UoiAFMY9C0YOIUd",
      "include_colab_link": true
    },
    "kernelspec": {
      "name": "python3",
      "display_name": "Python 3"
    },
    "language_info": {
      "name": "python"
    }
  },
  "cells": [
    {
      "cell_type": "markdown",
      "metadata": {
        "id": "view-in-github",
        "colab_type": "text"
      },
      "source": [
        "<a href=\"https://colab.research.google.com/github/shrud8817/algorithms/blob/main/Collatz_conjecture.ipynb\" target=\"_parent\"><img src=\"https://colab.research.google.com/assets/colab-badge.svg\" alt=\"Open In Colab\"/></a>"
      ]
    },
    {
      "cell_type": "code",
      "metadata": {
        "id": "B2kZPUCr--N0"
      },
      "source": [
        "#In 1937, a German mathematician named Lothar Collatz formulated an intriguing hypothesis (it still remains unproven) which can be described in the following way:\n",
        "\n",
        "# The Collatz conjecture is a conjecture in mathematics that concerns sequences defined as follows: start with any positive integer n. Then each term is obtained\n",
        "# from the previous term as follows: if the previous term is even, the next term is one half of the previous term. If the previous term is odd, the next term \n",
        "# is 3 times the previous term plus 1. The conjecture is that no matter what value of n, the sequence will always reach 1.\n",
        "\n",
        "\n",
        "#1.\ttake any non-negative and non-zero integer number and name it c0;\n",
        "#2.\tif it's even, evaluate a new c0 as c0 ÷ 2;\n",
        "#3.\totherwise, if it's odd, evaluate a new c0 as 3 × c0 + 1;\n",
        "#4.\tif c0 ≠ 1, skip to point 2."
      ],
      "execution_count": 1,
      "outputs": []
    },
    {
      "cell_type": "code",
      "metadata": {
        "colab": {
          "base_uri": "https://localhost:8080/"
        },
        "id": "nQ_Z39EV_CD8",
        "outputId": "d1e8ee81-260a-4452-f806-d82ebc248acf"
      },
      "source": [
        "c0 = int(input(\"Enter a number:\"))\n",
        "steps = 0\n",
        "\n",
        "while c0 != 1:\n",
        "    if c0 % 2 == 0:\n",
        "        c0 = c0 / 2\n",
        "    else:\n",
        "        c0 = 3 * c0 + 1\n",
        "    print(c0)\n",
        "    steps = steps + 1\n",
        "    \n",
        "print(\"steps=\" + str(steps))"
      ],
      "execution_count": 2,
      "outputs": [
        {
          "output_type": "stream",
          "text": [
            "Enter a number:15\n",
            "46\n",
            "23.0\n",
            "70.0\n",
            "35.0\n",
            "106.0\n",
            "53.0\n",
            "160.0\n",
            "80.0\n",
            "40.0\n",
            "20.0\n",
            "10.0\n",
            "5.0\n",
            "16.0\n",
            "8.0\n",
            "4.0\n",
            "2.0\n",
            "1.0\n",
            "steps=17\n"
          ],
          "name": "stdout"
        }
      ]
    }
  ]
}