{
  "nbformat": 4,
  "nbformat_minor": 0,
  "metadata": {
    "colab": {
      "name": "Fibonacci.ipynb",
      "provenance": [],
      "authorship_tag": "ABX9TyMugudwjgljO920JBjLg5Kp",
      "include_colab_link": true
    },
    "kernelspec": {
      "name": "python3",
      "display_name": "Python 3"
    },
    "language_info": {
      "name": "python"
    }
  },
  "cells": [
    {
      "cell_type": "markdown",
      "metadata": {
        "id": "view-in-github",
        "colab_type": "text"
      },
      "source": [
        "<a href=\"https://colab.research.google.com/github/shrud8817/algorithms/blob/main/Fibonacci.ipynb\" target=\"_parent\"><img src=\"https://colab.research.google.com/assets/colab-badge.svg\" alt=\"Open In Colab\"/></a>"
      ]
    },
    {
      "cell_type": "code",
      "metadata": {
        "id": "auw-2UN8-TgS",
        "outputId": "1cfb4776-e0c0-4b66-d496-1b98a266f57f",
        "colab": {
          "base_uri": "https://localhost:8080/"
        }
      },
      "source": [
        "# fibonacci series\n",
        "\n",
        "def fib(n):\n",
        "    if n < 1:\n",
        "        return None\n",
        "    if n < 3:\n",
        "        return 1\n",
        "\n",
        "    elem_1 = elem_2 = 1\n",
        "    the_sum = 0\n",
        "    for i in range(3, n + 1):\n",
        "        the_sum = elem_1 + elem_2\n",
        "        elem_1, elem_2 = elem_2, the_sum\n",
        "    return the_sum\n",
        "\n",
        "\n",
        "for n in range(1, 10):  # testing\n",
        "    print(n, \"->\", fib(n))"
      ],
      "execution_count": 1,
      "outputs": [
        {
          "output_type": "stream",
          "text": [
            "1 -> 1\n",
            "2 -> 1\n",
            "3 -> 2\n",
            "4 -> 3\n",
            "5 -> 5\n",
            "6 -> 8\n",
            "7 -> 13\n",
            "8 -> 21\n",
            "9 -> 34\n"
          ],
          "name": "stdout"
        }
      ]
    }
  ]
}