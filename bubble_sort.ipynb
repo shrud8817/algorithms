{
  "nbformat": 4,
  "nbformat_minor": 0,
  "metadata": {
    "colab": {
      "name": "bubble_sort.ipynb",
      "provenance": [],
      "authorship_tag": "ABX9TyO8TWvyYWlrNgRRfG6WN2RS",
      "include_colab_link": true
    },
    "kernelspec": {
      "name": "python3",
      "display_name": "Python 3"
    },
    "language_info": {
      "name": "python"
    }
  },
  "cells": [
    {
      "cell_type": "markdown",
      "metadata": {
        "id": "view-in-github",
        "colab_type": "text"
      },
      "source": [
        "<a href=\"https://colab.research.google.com/github/shrud8817/algorithms/blob/main/bubble_sort.ipynb\" target=\"_parent\"><img src=\"https://colab.research.google.com/assets/colab-badge.svg\" alt=\"Open In Colab\"/></a>"
      ]
    },
    {
      "cell_type": "code",
      "metadata": {
        "colab": {
          "base_uri": "https://localhost:8080/"
        },
        "id": "YiosyRHb_xcg",
        "outputId": "3f6af77a-efdb-4cff-cc67-9adcb9f3769d"
      },
      "source": [
        "my_list = [8, 10, 6, 2, 4]\n",
        "swap = True\n",
        "\n",
        "while swap:\n",
        "    swap = False\n",
        "    for i in range(len(my_list)-1):\n",
        "        if my_list[i]>my_list[i+1]:\n",
        "            my_list[i],my_list[i+1] = my_list[i+1],my_list[i]\n",
        "            swap = True\n",
        "\n",
        "\n",
        "print(my_list)"
      ],
      "execution_count": 1,
      "outputs": [
        {
          "output_type": "stream",
          "text": [
            "[2, 4, 6, 8, 10]\n"
          ],
          "name": "stdout"
        }
      ]
    },
    {
      "cell_type": "code",
      "metadata": {
        "colab": {
          "base_uri": "https://localhost:8080/"
        },
        "id": "nV-SOOqB_z-K",
        "outputId": "a36eae0d-e54b-4273-871b-9311dcb7b0c5"
      },
      "source": [
        "#bubble sort interactive version\n",
        "my_list = []\n",
        "swapped = True\n",
        "num = int(input(\"How many elements do you want to sort: \"))\n",
        "\n",
        "for i in range(num):\n",
        "    val = float(input(\"Enter a list element: \"))\n",
        "    my_list.append(val)\n",
        "\n",
        "while swapped:\n",
        "    swapped = False\n",
        "    for i in range(len(my_list) - 1):\n",
        "        if my_list[i] > my_list[i + 1]:\n",
        "            swapped = True\n",
        "            my_list[i], my_list[i + 1] = my_list[i + 1], my_list[i]\n",
        "\n",
        "print(\"\\nSorted:\")\n",
        "print(my_list)\n"
      ],
      "execution_count": 6,
      "outputs": [
        {
          "output_type": "stream",
          "text": [
            "How many elements do you want to sort: 8\n",
            "Enter a list element: 25\n",
            "Enter a list element: 6\n",
            "Enter a list element: 9\n",
            "Enter a list element: 45\n",
            "Enter a list element: 19\n",
            "Enter a list element: 2\n",
            "Enter a list element: 1\n",
            "Enter a list element: 88\n",
            "\n",
            "Sorted:\n",
            "[1.0, 2.0, 6.0, 9.0, 19.0, 25.0, 45.0, 88.0]\n"
          ],
          "name": "stdout"
        }
      ]
    }
  ]
}